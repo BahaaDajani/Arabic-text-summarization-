{
  "nbformat": 4,
  "nbformat_minor": 0,
  "metadata": {
    "colab": {
      "provenance": []
    },
    "kernelspec": {
      "name": "python3",
      "display_name": "Python 3"
    },
    "language_info": {
      "name": "python"
    }
  },
  "cells": [
    {
      "cell_type": "code",
      "source": [
        "import pandas as pd\n",
        "from nltk.translate.meteor_score import meteor_score\n",
        "\n",
        "# Load the dataset\n",
        "data = pd.read_csv('cleaned_final_sum_test_separate_columns.csv')\n",
        "data = data.head(1003)  # Ensure it only contains the first 1003 rows\n",
        "data.info()\n",
        "\n",
        "# Function to calculate METEOR score for a single pair of reference and generated summary\n",
        "def calculate_meteor(reference, generated):\n",
        "    return meteor_score([reference.split()], generated.split())\n",
        "\n",
        "# Calculate METEOR scores for each row\n",
        "meteor_scores = []\n",
        "\n",
        "for index, row in data.iterrows():\n",
        "    reference = row['Summary.1']\n",
        "    generated = row['GeneratedSummary']\n",
        "    meteor_scores.append(calculate_meteor(reference, generated))\n",
        "\n",
        "# Add METEOR scores to the dataframe\n",
        "data['METEOR'] = meteor_scores\n",
        "\n",
        "# Calculate the average METEOR score for the entire dataset\n",
        "average_meteor_score = sum(meteor_scores) / len(meteor_scores)\n",
        "print(f\"Average METEOR Score: {average_meteor_score}\")\n",
        "\n",
        "# Optionally, save the dataframe to a CSV file with METEOR scores\n",
        "data.to_csv('dataset_with_meteor_scores.csv', index=False)"
      ],
      "metadata": {
        "colab": {
          "base_uri": "https://localhost:8080/"
        },
        "id": "e6FzVlOcD-Je",
        "outputId": "90ee9f45-29e3-4f65-f42e-6493d1adb01d"
      },
      "execution_count": 20,
      "outputs": [
        {
          "output_type": "stream",
          "name": "stdout",
          "text": [
            "<class 'pandas.core.frame.DataFrame'>\n",
            "RangeIndex: 1003 entries, 0 to 1002\n",
            "Data columns (total 3 columns):\n",
            " #   Column            Non-Null Count  Dtype \n",
            "---  ------            --------------  ----- \n",
            " 0   Original          1003 non-null   object\n",
            " 1   Summary.1         1003 non-null   object\n",
            " 2   GeneratedSummary  1003 non-null   object\n",
            "dtypes: object(3)\n",
            "memory usage: 23.6+ KB\n",
            "Average METEOR Score: 0.10851691704723232\n"
          ]
        }
      ]
    },
    {
      "cell_type": "code",
      "source": [
        "import pandas as pd\n",
        "from nltk.translate.meteor_score import meteor_score\n",
        "\n",
        "# Load the dataset\n",
        "data = pd.read_csv('cleaned_final_sum_test_separate_columns.csv')\n",
        "data = data.head(1003)  # Ensure it only contains the first 1003 rows\n",
        "\n",
        "# Remove the first 392 rows\n",
        "data = data.iloc[392:].reset_index(drop=True)\n",
        "data.info()\n",
        "\n",
        "# Function to calculate METEOR score for a single pair of reference and generated summary\n",
        "def calculate_meteor(reference, generated):\n",
        "    return meteor_score([reference.split()], generated.split())\n",
        "\n",
        "# Calculate METEOR scores for each row\n",
        "meteor_scores = []\n",
        "\n",
        "for index, row in data.iterrows():\n",
        "    reference = row['Summary.1']\n",
        "    generated = row['GeneratedSummary']\n",
        "    meteor_scores.append(calculate_meteor(reference, generated))\n",
        "\n",
        "# Add METEOR scores to the dataframe\n",
        "data['METEOR'] = meteor_scores\n",
        "\n",
        "# Calculate the average METEOR score for the entire dataset\n",
        "average_meteor_score = sum(meteor_scores) / len(meteor_scores)\n",
        "print(f\"Average METEOR Score: {average_meteor_score}\")\n",
        "\n",
        "# Optionally, save the dataframe to a CSV file with METEOR scores\n",
        "data.to_csv('dataset_with_meteor_scores.csv', index=False)"
      ],
      "metadata": {
        "colab": {
          "base_uri": "https://localhost:8080/"
        },
        "id": "-awLt6_lEtoG",
        "outputId": "cb932a68-7825-430c-e2ea-7625a815dc0e"
      },
      "execution_count": 21,
      "outputs": [
        {
          "output_type": "stream",
          "name": "stdout",
          "text": [
            "<class 'pandas.core.frame.DataFrame'>\n",
            "RangeIndex: 611 entries, 0 to 610\n",
            "Data columns (total 3 columns):\n",
            " #   Column            Non-Null Count  Dtype \n",
            "---  ------            --------------  ----- \n",
            " 0   Original          611 non-null    object\n",
            " 1   Summary.1         611 non-null    object\n",
            " 2   GeneratedSummary  611 non-null    object\n",
            "dtypes: object(3)\n",
            "memory usage: 14.4+ KB\n",
            "Average METEOR Score: 0.11606498218097261\n"
          ]
        }
      ]
    }
  ]
}