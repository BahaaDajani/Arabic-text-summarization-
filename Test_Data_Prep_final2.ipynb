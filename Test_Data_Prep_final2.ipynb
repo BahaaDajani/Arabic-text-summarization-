{
 "cells": [
  {
   "cell_type": "code",
   "execution_count": null,
   "metadata": {
    "colab": {
     "base_uri": "https://localhost:8080/"
    },
    "id": "UpWWsX5oI2e6",
    "outputId": "63b0962c-39ee-4df3-af2f-9dc08df4702c"
   },
   "outputs": [],
   "source": [
    "!pip install langchain==0.0.131\n",
    "!pip install openai\n",
    "!pip install python-dotenv"
   ]
  },
  {
   "cell_type": "code",
   "execution_count": 59,
   "metadata": {
    "id": "SHmM5qkbJZZL"
   },
   "outputs": [],
   "source": [
    "import pandas as pd\n",
    "from langchain.agents import create_csv_agent\n",
    "from langchain.llms import OpenAI\n",
    "from langchain.chat_models import ChatOpenAI\n",
    "from IPython.display import display , Markdown\n",
    "import dotenv"
   ]
  },
  {
   "cell_type": "code",
   "execution_count": 60,
   "metadata": {
    "id": "kbIIsigEQQWa"
   },
   "outputs": [],
   "source": [
    "from langchain.llms import OpenAI\n",
    "from langchain import OpenAI\n",
    "from langchain.agents.agent_toolkits import create_csv_agent"
   ]
  },
  {
   "cell_type": "code",
   "execution_count": 61,
   "metadata": {
    "id": "mRJ2x-asYjuc"
   },
   "outputs": [],
   "source": [
    "import os\n",
    "import openai\n",
    "import csv"
   ]
  },
  {
   "cell_type": "code",
   "execution_count": 62,
   "metadata": {},
   "outputs": [],
   "source": [
    "csv_file_path = 'NEWS4.csv'\n",
    "summary_csv_path = 'NEWS3.csv'\n",
    "output_csv_path = 'final_sum_test.csv'"
   ]
  },
  {
   "cell_type": "code",
   "execution_count": 64,
   "metadata": {
    "id": "rANRTq6RYnFp"
   },
   "outputs": [],
   "source": [
    "rows = []\n",
    "with open(csv_file_path, 'r') as file:\n",
    "    reader = csv.DictReader(file)\n",
    "    for row in reader:\n",
    "        rows.append(row)"
   ]
  },
  {
   "cell_type": "code",
   "execution_count": 65,
   "metadata": {
    "id": "4jyGG5SmH1-U"
   },
   "outputs": [],
   "source": [
    "def generate_summary(original_text):\n",
    "    chunks = []\n",
    "    for i in range(0, len(original_text), 1024):\n",
    "        chunks.append(original_text[i:i + 1024])\n",
    "\n",
    "    \n",
    "    summaries = []\n",
    "    for chunk in chunks:\n",
    "        response = openai.chat.completions.create(\n",
    "            model=\"gpt-4\",\n",
    "            temperature=0.8,\n",
    "            messages=[{\"role\": \"user\",\n",
    "                       \"content\": \"As expert in summarizing arabic text, summarize the following text in Arabic \\n text=\" + chunk }])\n",
    "        summaries.append(response.choices[0].message.content)\n",
    "    return \" \".join(summaries)"
   ]
  },
  {
   "cell_type": "code",
   "execution_count": 66,
   "metadata": {},
   "outputs": [],
   "source": [
    "def generate_summaries(original_csv_path, summary_csv_path, output_csv_path):\n",
    "    with open(original_csv_path, 'r') as file:\n",
    "        reader = csv.DictReader(file)\n",
    "        original_rows = list(reader) \n",
    "\n",
    "    with open(summary_csv_path, 'r') as file:\n",
    "        reader = csv.DictReader(file)\n",
    "        summary_rows = list(reader)  \n",
    "        \n",
    "    with open(output_csv_path, 'w', newline='') as output_file:\n",
    "        fieldnames = ['Original', 'Summary.1']  \n",
    "        writer = csv.DictWriter(output_file, fieldnames=fieldnames)\n",
    "        writer.writeheader()\n",
    "        \n",
    "        for i, original_row in enumerate(original_rows):\n",
    "            if i < len(summary_rows):  \n",
    "                summary_text = summary_rows[i]['Summary.1'] \n",
    "            else:\n",
    "                summary_text = \"\" \n",
    "            \n",
    "            row = {'Original': original_row['Original'], 'Summary.1': summary_text}\n",
    "            writer.writerow(row)\n",
    "            \n",
    "            if i >= len(summary_rows) - 1:\n",
    "                break\n",
    "\n",
    "    start_index = len(summary_rows)\n",
    "    for row in original_rows[start_index:]:\n",
    "        summary_text = generate_summary(row[\"Original\"])\n",
    "        row = {'Original': row['Original'], 'Summary.1': summary_text}\n",
    "\n",
    "        with open(output_csv_path, 'a', newline='') as output_file:\n",
    "            writer = csv.DictWriter(output_file, fieldnames=fieldnames)\n",
    "            writer.writerow(row)"
   ]
  },
  {
   "cell_type": "code",
   "execution_count": null,
   "metadata": {},
   "outputs": [],
   "source": [
    "generate_summaries(csv_file_path, summary_csv_path, output_csv_path)"
   ]
  },
  {
   "cell_type": "code",
   "execution_count": 68,
   "metadata": {
    "id": "beZeiTa0y1VV"
   },
   "outputs": [],
   "source": [
    "df = pd.read_csv(output_csv_path)"
   ]
  },
  {
   "cell_type": "code",
   "execution_count": 69,
   "metadata": {},
   "outputs": [
    {
     "name": "stdout",
     "output_type": "stream",
     "text": [
      " Original Row: \n",
      "Original     فاز عمل رسام الكاريكاتير العراقي الشهير، علي ا...\n",
      "Summary.1    فاز الرسام العراقي، علي المندلاوي، بجائزة في ا...\n",
      "Name: 600, dtype: object\n",
      "\n",
      "Original Value for Row : فاز عمل رسام الكاريكاتير العراقي الشهير، علي المندلاوي، بجائزة في الدورة الـ14 من \"مهرجان الرسوم الكاريكاتيرية الدولي\" الذي جرى أخيراً في رومانيا، إلى جانب فائزين آخرين من دول معروفة بأعمالها الفنية التشكيلية التي ترقى إلى مستوى عالمي. وأوضح المندلاوي أن هذه المسابقة تختص برسم لوحات كاريكاتيرية مستوحاة من الشاعر الروماني الكبير أونيسكو، الذي يعدّ أهم شاعر روماني. واعتبر الرسام أن هذا المهرجان يدل على احترام الشعب الروماني لرموزه الإبداعية، حيث هناك أيضاً متحف خاص تجمع فيه سنويا كل الأعمال الفائزة بالمهرجان وتعرض للجمهور ومحبي الشاعر. ولم يخفِ المندلاوي سعادته عن \"العربية.نت\" بفوزه بجائزة في مسابقة عالمية، خصوصاً مع منافسة من رسامين عالميين معروفين في مجال رسم الـ\"بورتريه\" الشخصي، وعلى الرغم من ابتعاده الدائم عن المنافسات الفنية. وأوضح أن الدعوة للمشاركة في هذا المهرجان وصلته عن طريق صفحته الشخصية في موقع التواصل الاجتماعي \"فيسبوك\"، وعدّها المندلاوي نوعاً من التكريم له، ولذلك استجاب لها. يذكر أن المندلاوي من مواليد مدينة مندلي، وهي إحدى مناطق محافظة ديالى شرق بغداد، سنة 1958. وهو أول فنان عربي تقتني المتاحف الفنية أعماله الخاصة برسم \"الوجوه\" كاريكاتيريا. وهذه لأول مرة يدخل فيها مثل هذا اللون من الفن في متاحف العالم العربي. وسبق أن تم الاحتفاء بالمندلاوي خلال معرض في القاهرة، حيث عَرض يومها لوحة بحجم كبير للروائي العربي نجيب محفوظ، وقرر فيما إهداءها إلى الكاتب. وهذه اللوحة من أعمال المندلاوي الأكثر أهمية، حسب تعبيره الذي كشف أنه لا يدري إن وصلت هذه اللوحة إلى محفوظ في وقتها أم لا.    رسمة المندلاوي التي فازت بالجائزة    المندلاوي ورسمته الفائزة\n"
     ]
    }
   ],
   "source": [
    "roww2 = df.iloc[600]\n",
    "orignal = df.at[600, 'Original']\n",
    "print(f\" Original Row: \\n{roww2}\\n\")\n",
    "print(f\"Original Value for Row : {orignal}\")"
   ]
  },
  {
   "cell_type": "code",
   "execution_count": 70,
   "metadata": {},
   "outputs": [
    {
     "name": "stdout",
     "output_type": "stream",
     "text": [
      "First Row: \n",
      "Original     فاز عمل رسام الكاريكاتير العراقي الشهير، علي ا...\n",
      "Summary.1    فاز الرسام العراقي، علي المندلاوي، بجائزة في ا...\n",
      "Name: 600, dtype: object\n",
      "\n",
      "Summary Value for Row : فاز الرسام العراقي، علي المندلاوي، بجائزة في الدورة الـ14 من \"مهرجان الرسوم الكاريكاتيرية الدولي\" الذي أقيم في رومانيا، متفوقاً على عدد من المنافسين الدوليين. وقد أشار المندلاوي إلى أن المسابقة كانت تتعلق برسم كاريكاتير مستوحى من أعمال الشاعر الروماني أونيسكو. وعبر المندلاوي عن سعادته بالفوز في مسابقة عالمية، خاصة مع منافسة من رسامين مشهورين، معتبراً الدعوة للمشاركة في هذا المهرجان تكريماً له.\n",
      " النص يتحدث عن الفنان الذي اشتهر برسم الوجوه الكاريكاتورية، وهو الأمر الذي يعد جديدًا في متاحف العالم العربي. وقد تم تكريمه في معرض بالقاهرة حيث عرض لوحة كبيرة للروائي العربي نجيب محفوظ وقرر إهدائها له. ولكنه ليس متأكداً إذا ما وصلت اللوحة لمحفوظ أم لا. ويذكر النص أيضا أن لوحة المندلاوي فازت بجائزة.\n"
     ]
    }
   ],
   "source": [
    "roww = df.iloc[600]\n",
    "summary_value = df.at[600, 'Summary.1']\n",
    "print(f\"First Row: \\n{roww}\\n\")\n",
    "print(f\"Summary Value for Row : {summary_value}\")"
   ]
  },
  {
   "cell_type": "code",
   "execution_count": null,
   "metadata": {},
   "outputs": [],
   "source": []
  }
 ],
 "metadata": {
  "colab": {
   "provenance": []
  },
  "kernelspec": {
   "display_name": "Python 3 (ipykernel)",
   "language": "python",
   "name": "python3"
  },
  "language_info": {
   "codemirror_mode": {
    "name": "ipython",
    "version": 3
   },
   "file_extension": ".py",
   "mimetype": "text/x-python",
   "name": "python",
   "nbconvert_exporter": "python",
   "pygments_lexer": "ipython3",
   "version": "3.11.8"
  }
 },
 "nbformat": 4,
 "nbformat_minor": 4
}
